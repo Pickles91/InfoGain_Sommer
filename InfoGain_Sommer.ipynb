{
 "cells": [
  {
   "cell_type": "code",
   "execution_count": null,
   "id": "f581333c",
   "metadata": {},
   "outputs": [],
   "source": [
    "# HW2: Information Gain\n",
    "# Group Members: Steve Sommer\n",
    "# Due: Oct 27, 2023 11:59 PM"
   ]
  },
  {
   "cell_type": "code",
   "execution_count": 35,
   "id": "96660132",
   "metadata": {},
   "outputs": [],
   "source": [
    "import math"
   ]
  },
  {
   "cell_type": "code",
   "execution_count": 36,
   "id": "9de68dc0",
   "metadata": {},
   "outputs": [],
   "source": [
    "# Create a function to open input file\n",
    "# Return list of instances\n",
    "def get_inst_from_file(filename):\n",
    "    all_instances = []\n",
    "    fin = open(filename,\"r\")\n",
    "    fin.readline()\n",
    "\n",
    "    for line in fin:\n",
    "        all_instances.append(line.strip().split(\",\"))\n",
    "    \n",
    "    fin.close()\n",
    "    \n",
    "    return all_instances"
   ]
  },
  {
   "cell_type": "code",
   "execution_count": 37,
   "id": "0007aafe",
   "metadata": {},
   "outputs": [
    {
     "name": "stdout",
     "output_type": "stream",
     "text": [
      "[['3', 'male', 'A', '1', '0', '0'], ['1', 'female', 'A', '1', '0', '1'], ['3', 'female', 'A', '0', '0', '1'], ['1', 'female', 'A', '1', '0', '1'], ['3', 'male', 'A', '0', '0', '0'], ['3', 'male', 'A', '0', '0', '0'], ['1', 'male', 'A', '0', '0', '0'], ['3', 'male', 'C', '3', '1', '0'], ['3', 'female', 'A', '0', '2', '1'], ['2', 'female', 'C', '1', '0', '1']]\n"
     ]
    }
   ],
   "source": [
    "# Print first 10 instances\n",
    "titanic_instances = get_inst_from_file(\"titanic_new.csv\")\n",
    "print(titanic_instances[:10])"
   ]
  },
  {
   "cell_type": "code",
   "execution_count": 38,
   "id": "c93dc037",
   "metadata": {},
   "outputs": [],
   "source": [
    "# Create a function to open attributes file\n",
    "# Return list of attribute values, along with attrib name\n",
    "\n",
    "def get_attribs_from_file(filename):\n",
    "    attribs = []\n",
    "    fin = open(filename,\"r\")\n",
    "    \n",
    "    for line in fin:\n",
    "        words = line.strip().split()\n",
    "        attribs.append(words[1:])\n",
    "        \n",
    "    return attribs"
   ]
  },
  {
   "cell_type": "code",
   "execution_count": 39,
   "id": "4204e110",
   "metadata": {},
   "outputs": [
    {
     "name": "stdout",
     "output_type": "stream",
     "text": [
      "[['1', '2', '3'], ['male', 'female'], ['A', 'C'], ['0', '1', '2', '3', '4', '5', '8'], ['0', '1', '2', '3', '4', '5', '6'], ['0', '1']]\n"
     ]
    }
   ],
   "source": [
    "# Print attrib info\n",
    "titanic_attribs = get_attribs_from_file(\"attribs\")\n",
    "print(titanic_attribs)"
   ]
  },
  {
   "cell_type": "code",
   "execution_count": 99,
   "id": "662d9418",
   "metadata": {},
   "outputs": [
    {
     "name": "stdout",
     "output_type": "stream",
     "text": [
      "0.9618806789594468\n"
     ]
    }
   ],
   "source": [
    "# TODO: Write a function that returns class's entropy: H(Y)\n",
    "# INPUT:   * List of instances, with label in last column\n",
    "#          * value for first class (first possible value for label)\n",
    "#          * value for second class (second possible value for label)\n",
    "# RETURN:  Single float value for entropy\n",
    "def get_entropy(instances, class0, class1):\n",
    "    \n",
    "    # HINT: Get counts for both classes\n",
    "    count_class0 = sum(1 for instance in instances if instance[-1] == class0)\n",
    "    count_class1 = sum(1 for instance in instances if instance[-1] == class1)\n",
    "    \n",
    "    # HINT: Get class count for both classes\n",
    "    total_count = len(instances)\n",
    "    \n",
    "    # Calculate the probability of each class\n",
    "    prob_class0 = count_class0 / total_count\n",
    "    prob_class1 = count_class1 / total_count\n",
    "    \n",
    "    if prob_class0 <= 0 or prob_class1 <= 0:\n",
    "        print(f\"BUG: {prob_class0} {prob_class1} {total_count} {count_class0} {count_class1} \")\n",
    "\n",
    "    # HINT: Be careful! Remember that log(0) is undefined (regardless of the log's base)\n",
    "    entropy = -(prob_class0 * log2(prob_class0) + prob_class1 * log2(prob_class1))\n",
    "    return entropy\n",
    "\n",
    "# Test entropy function\n",
    "all_entropy = get_entropy(titanic_instances,'0','1')\n",
    "print(all_entropy)"
   ]
  },
  {
   "cell_type": "code",
   "execution_count": 41,
   "id": "a12cd2ab",
   "metadata": {},
   "outputs": [
    {
     "name": "stdout",
     "output_type": "stream",
     "text": [
      "0.9618806789594468\n"
     ]
    }
   ],
   "source": [
    "# Test entropy function\n",
    "all_entropy = get_entropy(titanic_instances,'0','1')\n",
    "print(all_entropy)"
   ]
  },
  {
   "cell_type": "code",
   "execution_count": 95,
   "id": "61877d6d",
   "metadata": {},
   "outputs": [
    {
     "name": "stdout",
     "output_type": "stream",
     "text": [
      "This e:  0.9551827486262512\n"
     ]
    }
   ],
   "source": [
    "# TODO: Write a function that returns conditional entropy: H(Y|X)\n",
    "# INPUT:   * List of instances, with label in last column\n",
    "#          * Feature index integer that indicates which feature to calculate I.G. for\n",
    "#          * List of values feature can take on (comes from attribs file) \n",
    "#          * value for first class (first possible value for label)\n",
    "#          * value for second class (second possible value for label)\n",
    "# RETURN:  Return single float value for conditional entropy.\n",
    "def get_cond_entropy(instances, feat_index, feat_vals, class0, class1):\n",
    "    num_inst = len(instances)\n",
    "    total_entropy = 0.0\n",
    "    \n",
    "    \n",
    "    # HINT: Iterate over all feat_vals (i.e., all values the current feature--feat_index--can take on).\n",
    "    for val in feat_vals:\n",
    "    #for i in range(len(feat_vals)):\n",
    "        \n",
    "        # Get the current value from feat_vals using the index\n",
    "        #val = feat_vals[i]\n",
    "        \n",
    "        # Filter instances where the feature (feat_index) has the current value (val)\n",
    "        filtered_instances = [instance for instance in instances if instance[feat_index] == val]\n",
    "\n",
    "        # HINT: Calculate probability of attribute taking on this value.\n",
    "        prob_val = len(filtered_instances) / num_inst\n",
    "        \n",
    "        # HINT: You should be able to use your get_entropy() function,\n",
    "        #        using the subset of instances where attribute takes on current\n",
    "        #        value.\n",
    "        conditional_entropy = get_entropy(filtered_instances, class0, class1)\n",
    "\n",
    "        # Update the total conditional entropy\n",
    "        total_entropy += prob_val * conditional_entropy\n",
    "\n",
    "    return total_entropy\n",
    "        \n",
    "\n",
    "# Test conditional entropy\n",
    "this_e = get_cond_entropy(titanic_instances, 2, ['A','C'], '0','1')\n",
    "print(\"This e: \", this_e)"
   ]
  },
  {
   "cell_type": "code",
   "execution_count": 47,
   "id": "4796ff75",
   "metadata": {},
   "outputs": [
    {
     "name": "stdout",
     "output_type": "stream",
     "text": [
      "This e:  0.9551827486262512\n"
     ]
    }
   ],
   "source": [
    "# Test conditional entropy\n",
    "this_e = get_cond_entropy(titanic_instances, 2, ['A','C'], '0','1')\n",
    "print(\"This e: \", this_e)"
   ]
  },
  {
   "cell_type": "code",
   "execution_count": 96,
   "id": "a6e2bd80",
   "metadata": {},
   "outputs": [
    {
     "name": "stdout",
     "output_type": "stream",
     "text": [
      "Information Gain:  0.006697930333195656\n"
     ]
    }
   ],
   "source": [
    "# TODO: Write a function that returns I(Y;X) = H(Y) - H(Y|X)\n",
    "# INPUT:   * List of instances, with label in last column\n",
    "#          * Feature index integer that indicates which feature to calculate I.G. for\n",
    "#          * List of values feature can take on (comes from attribs file) \n",
    "#          * value for first class (first possible value for label)\n",
    "#          * value for second class (second possible value for label)\n",
    "# RETURN:  Single float value for info_gain on this feature\n",
    "\n",
    "def get_info_gain(instances, feat_index, feat_vals, class0, class1):\n",
    "    # HINT: you should be able to just call your entropy and conditional entropy\n",
    "    #         functions you've already coded.\n",
    "    \n",
    "    entropyy = get_entropy(instances, class0, class1)\n",
    "    cond_entropyy = get_cond_entropy(instances, feat_index, feat_vals, class0, class1)\n",
    "    \n",
    "    info_gain = entropyy - cond_entropyy\n",
    "    return info_gain\n",
    "    \n",
    "# Test information gain\n",
    "info_gain = get_info_gain(titanic_instances, 2, ['A', 'C'], '0', '1')\n",
    "print(\"Information Gain: \", info_gain)"
   ]
  },
  {
   "cell_type": "code",
   "execution_count": 100,
   "id": "f04851ba",
   "metadata": {},
   "outputs": [
    {
     "name": "stdout",
     "output_type": "stream",
     "text": [
      "c1,c2:  0 1\n",
      "BUG: 1.0 0.0 5 5 0 \n"
     ]
    },
    {
     "ename": "ValueError",
     "evalue": "math domain error",
     "output_type": "error",
     "traceback": [
      "\u001b[1;31m---------------------------------------------------------------------------\u001b[0m",
      "\u001b[1;31mValueError\u001b[0m                                Traceback (most recent call last)",
      "Cell \u001b[1;32mIn[100], line 10\u001b[0m\n\u001b[0;32m      7\u001b[0m \u001b[38;5;28mprint\u001b[39m(\u001b[38;5;124m\"\u001b[39m\u001b[38;5;124mc1,c2: \u001b[39m\u001b[38;5;124m\"\u001b[39m, c1,c2)  \u001b[38;5;66;03m# Two class values\u001b[39;00m\n\u001b[0;32m      9\u001b[0m \u001b[38;5;28;01mfor\u001b[39;00m i \u001b[38;5;129;01min\u001b[39;00m \u001b[38;5;28mrange\u001b[39m(\u001b[38;5;28mlen\u001b[39m(titanic_attribs)\u001b[38;5;241m-\u001b[39m\u001b[38;5;241m1\u001b[39m):\n\u001b[1;32m---> 10\u001b[0m     all_IGs\u001b[38;5;241m.\u001b[39mappend(get_info_gain(titanic_instances, i, titanic_attribs[i], c1,c2))\n",
      "Cell \u001b[1;32mIn[96], line 14\u001b[0m, in \u001b[0;36mget_info_gain\u001b[1;34m(instances, feat_index, feat_vals, class0, class1)\u001b[0m\n\u001b[0;32m      9\u001b[0m \u001b[38;5;28;01mdef\u001b[39;00m \u001b[38;5;21mget_info_gain\u001b[39m(instances, feat_index, feat_vals, class0, class1):\n\u001b[0;32m     10\u001b[0m     \u001b[38;5;66;03m# HINT: you should be able to just call your entropy and conditional entropy\u001b[39;00m\n\u001b[0;32m     11\u001b[0m     \u001b[38;5;66;03m#         functions you've already coded.\u001b[39;00m\n\u001b[0;32m     13\u001b[0m     entropyy \u001b[38;5;241m=\u001b[39m get_entropy(instances, class0, class1)\n\u001b[1;32m---> 14\u001b[0m     cond_entropyy \u001b[38;5;241m=\u001b[39m get_cond_entropy(instances, feat_index, feat_vals, class0, class1)\n\u001b[0;32m     16\u001b[0m     info_gain \u001b[38;5;241m=\u001b[39m entropyy \u001b[38;5;241m-\u001b[39m cond_entropyy\n\u001b[0;32m     17\u001b[0m     \u001b[38;5;28;01mreturn\u001b[39;00m info_gain\n",
      "Cell \u001b[1;32mIn[95], line 29\u001b[0m, in \u001b[0;36mget_cond_entropy\u001b[1;34m(instances, feat_index, feat_vals, class0, class1)\u001b[0m\n\u001b[0;32m     24\u001b[0m prob_val \u001b[38;5;241m=\u001b[39m \u001b[38;5;28mlen\u001b[39m(filtered_instances) \u001b[38;5;241m/\u001b[39m num_inst\n\u001b[0;32m     26\u001b[0m \u001b[38;5;66;03m# HINT: You should be able to use your get_entropy() function,\u001b[39;00m\n\u001b[0;32m     27\u001b[0m \u001b[38;5;66;03m#        using the subset of instances where attribute takes on current\u001b[39;00m\n\u001b[0;32m     28\u001b[0m \u001b[38;5;66;03m#        value.\u001b[39;00m\n\u001b[1;32m---> 29\u001b[0m conditional_entropy \u001b[38;5;241m=\u001b[39m get_entropy(filtered_instances, class0, class1)\n\u001b[0;32m     31\u001b[0m \u001b[38;5;66;03m# Update the total conditional entropy\u001b[39;00m\n\u001b[0;32m     32\u001b[0m total_entropy \u001b[38;5;241m+\u001b[39m\u001b[38;5;241m=\u001b[39m prob_val \u001b[38;5;241m*\u001b[39m conditional_entropy\n",
      "Cell \u001b[1;32mIn[99], line 23\u001b[0m, in \u001b[0;36mget_entropy\u001b[1;34m(instances, class0, class1)\u001b[0m\n\u001b[0;32m     20\u001b[0m     \u001b[38;5;28mprint\u001b[39m(\u001b[38;5;124mf\u001b[39m\u001b[38;5;124m\"\u001b[39m\u001b[38;5;124mBUG: \u001b[39m\u001b[38;5;132;01m{\u001b[39;00mprob_class0\u001b[38;5;132;01m}\u001b[39;00m\u001b[38;5;124m \u001b[39m\u001b[38;5;132;01m{\u001b[39;00mprob_class1\u001b[38;5;132;01m}\u001b[39;00m\u001b[38;5;124m \u001b[39m\u001b[38;5;132;01m{\u001b[39;00mtotal_count\u001b[38;5;132;01m}\u001b[39;00m\u001b[38;5;124m \u001b[39m\u001b[38;5;132;01m{\u001b[39;00mcount_class0\u001b[38;5;132;01m}\u001b[39;00m\u001b[38;5;124m \u001b[39m\u001b[38;5;132;01m{\u001b[39;00mcount_class1\u001b[38;5;132;01m}\u001b[39;00m\u001b[38;5;124m \u001b[39m\u001b[38;5;124m\"\u001b[39m)\n\u001b[0;32m     22\u001b[0m \u001b[38;5;66;03m# HINT: Be careful! Remember that log(0) is undefined (regardless of the log's base)\u001b[39;00m\n\u001b[1;32m---> 23\u001b[0m entropy \u001b[38;5;241m=\u001b[39m \u001b[38;5;241m-\u001b[39m(prob_class0 \u001b[38;5;241m*\u001b[39m log2(prob_class0) \u001b[38;5;241m+\u001b[39m prob_class1 \u001b[38;5;241m*\u001b[39m log2(prob_class1))\n\u001b[0;32m     24\u001b[0m \u001b[38;5;28;01mreturn\u001b[39;00m entropy\n",
      "\u001b[1;31mValueError\u001b[0m: math domain error"
     ]
    }
   ],
   "source": [
    "# Go thru all features and find corresponding IG measures.\n",
    "# Be careful that you skip the last entry (class labels) in attrib array.\n",
    "# Store them in a list to print later.\n",
    "\n",
    "all_IGs = []\n",
    "c1,c2 = titanic_attribs[len(titanic_attribs)-1]\n",
    "print(\"c1,c2: \", c1,c2)  # Two class values\n",
    "\n",
    "for i in range(len(titanic_attribs)-1):\n",
    "    all_IGs.append(get_info_gain(titanic_instances, i, titanic_attribs[i], c1,c2))"
   ]
  },
  {
   "cell_type": "code",
   "execution_count": 21,
   "id": "50e8df1d",
   "metadata": {},
   "outputs": [
    {
     "name": "stdout",
     "output_type": "stream",
     "text": [
      "[0.08286373372692346, 0.2168495048312652, 0.006697930333195656]\n"
     ]
    }
   ],
   "source": [
    "print(all_IGs)"
   ]
  },
  {
   "cell_type": "code",
   "execution_count": null,
   "id": "8f7fe87d",
   "metadata": {},
   "outputs": [],
   "source": []
  }
 ],
 "metadata": {
  "kernelspec": {
   "display_name": "Python 3 (ipykernel)",
   "language": "python",
   "name": "python3"
  },
  "language_info": {
   "codemirror_mode": {
    "name": "ipython",
    "version": 3
   },
   "file_extension": ".py",
   "mimetype": "text/x-python",
   "name": "python",
   "nbconvert_exporter": "python",
   "pygments_lexer": "ipython3",
   "version": "3.11.4"
  }
 },
 "nbformat": 4,
 "nbformat_minor": 5
}
