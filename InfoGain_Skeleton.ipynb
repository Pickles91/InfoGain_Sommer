{
 "cells": [
  {
   "cell_type": "code",
   "execution_count": null,
   "id": "f581333c",
   "metadata": {},
   "outputs": [],
   "source": [
    "# HW2: Information Gain\n",
    "# Group Members: "
   ]
  },
  {
   "cell_type": "code",
   "execution_count": 1,
   "id": "96660132",
   "metadata": {},
   "outputs": [],
   "source": [
    "import math"
   ]
  },
  {
   "cell_type": "code",
   "execution_count": 2,
   "id": "9de68dc0",
   "metadata": {},
   "outputs": [],
   "source": [
    "# Create a function to open input file\n",
    "# Return list of instances\n",
    "def get_inst_from_file(filename):\n",
    "    all_instances = []\n",
    "    fin = open(filename,\"r\")\n",
    "    fin.readline()\n",
    "\n",
    "    for line in fin:\n",
    "        all_instances.append(line.strip().split(\",\"))\n",
    "    \n",
    "    fin.close()\n",
    "    \n",
    "    return all_instances"
   ]
  },
  {
   "cell_type": "code",
   "execution_count": 3,
   "id": "0007aafe",
   "metadata": {},
   "outputs": [
    {
     "name": "stdout",
     "output_type": "stream",
     "text": [
      "[['3', 'male', 'A', '1', '0', '0'], ['1', 'female', 'A', '1', '0', '1'], ['3', 'female', 'A', '0', '0', '1'], ['1', 'female', 'A', '1', '0', '1'], ['3', 'male', 'A', '0', '0', '0'], ['3', 'male', 'A', '0', '0', '0'], ['1', 'male', 'A', '0', '0', '0'], ['3', 'male', 'C', '3', '1', '0'], ['3', 'female', 'A', '0', '2', '1'], ['2', 'female', 'C', '1', '0', '1']]\n"
     ]
    }
   ],
   "source": [
    "# Print first 10 instances\n",
    "titanic_instances = get_inst_from_file(\"titanic_new.csv\")\n",
    "print(titanic_instances[:10])"
   ]
  },
  {
   "cell_type": "code",
   "execution_count": 4,
   "id": "c93dc037",
   "metadata": {},
   "outputs": [],
   "source": [
    "# Create a function to open attributes file\n",
    "# Return list of attribute values, along with attrib name\n",
    "\n",
    "def get_attribs_from_file(filename):\n",
    "    attribs = []\n",
    "    fin = open(filename,\"r\")\n",
    "    \n",
    "    for line in fin:\n",
    "        words = line.strip().split()\n",
    "        attribs.append(words[1:])\n",
    "        \n",
    "    return attribs"
   ]
  },
  {
   "cell_type": "code",
   "execution_count": 5,
   "id": "4204e110",
   "metadata": {},
   "outputs": [
    {
     "name": "stdout",
     "output_type": "stream",
     "text": [
      "[['1', '2', '3'], ['male', 'female'], ['A', 'C'], ['0', '1', '2', '3', '4', '5', '8'], ['0', '1', '2', '3', '4', '5', '6'], ['0', '1']]\n"
     ]
    }
   ],
   "source": [
    "# Print attrib info\n",
    "titanic_attribs = get_attribs_from_file(\"attribs\")\n",
    "print(titanic_attribs)"
   ]
  },
  {
   "cell_type": "code",
   "execution_count": 6,
   "id": "662d9418",
   "metadata": {},
   "outputs": [],
   "source": [
    "# TODO: Write a function that returns class's entropy: H(Y)\n",
    "# INPUT:   * List of instances, with label in last column\n",
    "#          * value for first class (first possible value for label)\n",
    "#          * value for second class (second possible value for label)\n",
    "# RETURN:  Single float value for entropy\n",
    "def get_entropy(instances, class0, class1):\n",
    "    \n",
    "    # HINT: Get counts for both classes\n",
    "\n",
    "    \n",
    "    # HINT: Get class count for both classes\n",
    "\n",
    "    \n",
    "    # HINT: Be careful! Remember that log(0) is undefined (regardless of the log's base)\n",
    "\n",
    "\n",
    "    "
   ]
  },
  {
   "cell_type": "code",
   "execution_count": 7,
   "id": "a12cd2ab",
   "metadata": {},
   "outputs": [
    {
     "name": "stdout",
     "output_type": "stream",
     "text": [
      "0.9618806789594468\n"
     ]
    }
   ],
   "source": [
    "# Test entropy function\n",
    "all_entropy = get_entropy(titanic_instances,'0','1')\n",
    "print(all_entropy)"
   ]
  },
  {
   "cell_type": "code",
   "execution_count": 8,
   "id": "61877d6d",
   "metadata": {},
   "outputs": [],
   "source": [
    "# TODO: Write a function that returns conditional entropy: H(Y|X)\n",
    "# INPUT:   * List of instances, with label in last column\n",
    "#          * Feature index integer that indicates which feature to calculate I.G. for\n",
    "#          * List of values feature can take on (comes from attribs file) \n",
    "#          * value for first class (first possible value for label)\n",
    "#          * value for second class (second possible value for label)\n",
    "# RETURN:  Return single float value for conditional entropy.\n",
    "def get_cond_entropy(instances, feat_index, feat_vals, class0, class1):\n",
    "    num_inst = len(instances)\n",
    "    total_entropy = 0.0\n",
    "    \n",
    "    # HINT: Iterate over all feat_vals (i.e., all values the current feature--feat_index--can take on).\n",
    "    for i in range(len(feat_vals)):\n",
    "            \n",
    "        # HINT: Calculate probability of attribute taking on this value.\n",
    "\n",
    "            \n",
    "        # HINT: You should be able to use your get_entropy() function,\n",
    "        #        using the subset of instances where attribute takes on current\n",
    "        #        value.\n",
    "                \n",
    "    \n",
    "    return total_entropy\n",
    "    "
   ]
  },
  {
   "cell_type": "code",
   "execution_count": 9,
   "id": "4796ff75",
   "metadata": {},
   "outputs": [
    {
     "name": "stdout",
     "output_type": "stream",
     "text": [
      "This e:  0.9551827486262512\n"
     ]
    }
   ],
   "source": [
    "# Test conditional entropy\n",
    "this_e = get_cond_entropy(titanic_instances, 2, ['A','C'], '0','1')\n",
    "print(\"This e: \", this_e)"
   ]
  },
  {
   "cell_type": "code",
   "execution_count": 10,
   "id": "a6e2bd80",
   "metadata": {},
   "outputs": [],
   "source": [
    "# TODO: Write a function that returns I(Y;X) = H(Y) - H(Y|X)\n",
    "# INPUT:   * List of instances, with label in last column\n",
    "#          * Feature index integer that indicates which feature to calculate I.G. for\n",
    "#          * List of values feature can take on (comes from attribs file) \n",
    "#          * value for first class (first possible value for label)\n",
    "#          * value for second class (second possible value for label)\n",
    "# RETURN:  Single float value for info_gain on this feature\n",
    "def get_info_gain(instances, feat_index, feat_vals, class0, class1):\n",
    "    # HINT: you should be able to just call your entropy and conditional entropy\n",
    "    #         functions you've already coded.\n"
   ]
  },
  {
   "cell_type": "code",
   "execution_count": 11,
   "id": "f04851ba",
   "metadata": {},
   "outputs": [
    {
     "name": "stdout",
     "output_type": "stream",
     "text": [
      "c1,c2:  0 1\n"
     ]
    }
   ],
   "source": [
    "# Go thru all features and find corresponding IG measures.\n",
    "# Be careful that you skip the last entry (class labels) in attrib array.\n",
    "# Store them in a list to print later.\n",
    "\n",
    "all_IGs = []\n",
    "c1,c2 = titanic_attribs[len(titanic_attribs)-1]\n",
    "print(\"c1,c2: \", c1,c2)  # Two class values\n",
    "\n",
    "for i in range(len(titanic_attribs)-1):\n",
    "    all_IGs.append(get_info_gain(titanic_instances, i, titanic_attribs[i], c1,c2))"
   ]
  },
  {
   "cell_type": "code",
   "execution_count": 12,
   "id": "50e8df1d",
   "metadata": {},
   "outputs": [
    {
     "name": "stdout",
     "output_type": "stream",
     "text": [
      "[0.08286373372692346, 0.2168495048312652, 0.006697930333195656, 0.03322570179189499, 0.02330698645215601]\n"
     ]
    }
   ],
   "source": [
    "print(all_IGs)"
   ]
  }
 ],
 "metadata": {
  "kernelspec": {
   "display_name": "Python 3 (ipykernel)",
   "language": "python",
   "name": "python3"
  },
  "language_info": {
   "codemirror_mode": {
    "name": "ipython",
    "version": 3
   },
   "file_extension": ".py",
   "mimetype": "text/x-python",
   "name": "python",
   "nbconvert_exporter": "python",
   "pygments_lexer": "ipython3",
   "version": "3.11.4"
  }
 },
 "nbformat": 4,
 "nbformat_minor": 5
}
